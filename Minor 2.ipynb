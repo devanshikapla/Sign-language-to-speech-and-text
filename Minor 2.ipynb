{
 "cells": [
  {
   "cell_type": "code",
   "execution_count": 1,
   "metadata": {},
   "outputs": [
    {
     "name": "stdout",
     "output_type": "stream",
     "text": [
      "{'test': 0, 'train': 1}\n",
      "['test', 'train']\n",
      "[0, 1]\n"
     ]
    }
   ],
   "source": [
    "import cv2\n",
    "import os\n",
    "\n",
    "data_path=r'C:\\Users\\khosl\\OneDrive\\Desktop\\minor\\Sign-To-Speech-Conversion\\DATASET'\n",
    "categories=os.listdir(data_path)\n",
    "labels=[i for i in range(len(categories))]\n",
    "\n",
    "label_dict=dict(zip(categories,labels)) #empty dictionary\n",
    "\n",
    "print(label_dict)\n",
    "print(categories)\n",
    "print(labels)"
   ]
  },
  {
   "cell_type": "code",
   "execution_count": 2,
   "metadata": {},
   "outputs": [
    {
     "name": "stdout",
     "output_type": "stream",
     "text": [
      "['0', 'A', 'B', 'C', 'D', 'E', 'F', 'G', 'H', 'I', 'J', 'K', 'L', 'M', 'N', 'O', 'P', 'Q', 'R', 'S', 'T', 'U', 'V', 'W', 'X', 'Y', 'Z']\n",
      "[0, 1, 2, 3, 4, 5, 6, 7, 8, 9, 10, 11, 12, 13, 14, 15, 16, 17, 18, 19, 20, 21, 22, 23, 24, 25, 26]\n"
     ]
    }
   ],
   "source": [
    "data_path=r'C:\\Users\\khosl\\OneDrive\\Desktop\\minor\\Sign-To-Speech-Conversion\\DATASET\\train'\n",
    "classes_path=os.listdir(data_path)\n",
    "classesf=os.listdir(data_path)\n",
    "print(classesf)\n",
    "labels_classes=[i for i in range(len(classesf))]\n",
    "print(labels_classes)"
   ]
  },
  {
   "cell_type": "code",
   "execution_count": 3,
   "metadata": {},
   "outputs": [],
   "source": [
    "data_path=r'C:\\Users\\khosl\\OneDrive\\Desktop\\minor\\Sign-To-Speech-Conversion\\DATASET'"
   ]
  },
  {
   "cell_type": "code",
   "execution_count": 4,
   "metadata": {},
   "outputs": [],
   "source": [
    "label_classes_dict=dict(zip(classesf,labels_classes))"
   ]
  },
  {
   "cell_type": "code",
   "execution_count": 5,
   "metadata": {},
   "outputs": [
    {
     "name": "stdout",
     "output_type": "stream",
     "text": [
      "{'0': 0, 'A': 1, 'B': 2, 'C': 3, 'D': 4, 'E': 5, 'F': 6, 'G': 7, 'H': 8, 'I': 9, 'J': 10, 'K': 11, 'L': 12, 'M': 13, 'N': 14, 'O': 15, 'P': 16, 'Q': 17, 'R': 18, 'S': 19, 'T': 20, 'U': 21, 'V': 22, 'W': 23, 'X': 24, 'Y': 25, 'Z': 26}\n"
     ]
    }
   ],
   "source": [
    "#print(labels_classes)\n",
    "#print(categories)\n",
    "print(label_classes_dict)"
   ]
  },
  {
   "cell_type": "code",
   "execution_count": 6,
   "metadata": {},
   "outputs": [],
   "source": [
    "import numpy as np"
   ]
  },
  {
   "cell_type": "code",
   "execution_count": null,
   "metadata": {},
   "outputs": [],
   "source": []
  },
  {
   "cell_type": "code",
   "execution_count": 7,
   "metadata": {},
   "outputs": [
    {
     "name": "stdout",
     "output_type": "stream",
     "text": [
      "C:\\Users\\khosl\\OneDrive\\Desktop\\minor\\Sign-To-Speech-Conversion\\DATASET\\test\n",
      "['0', 'A', 'B', 'C', 'D', 'E', 'F', 'G', 'H', 'I', 'J', 'K', 'L', 'M', 'N', 'O', 'P', 'Q', 'R', 'S', 'T', 'U', 'V', 'W', 'X', 'Y', 'Z']\n",
      "C:\\Users\\khosl\\OneDrive\\Desktop\\minor\\Sign-To-Speech-Conversion\\DATASET\\test\\0\n",
      "C:\\Users\\khosl\\OneDrive\\Desktop\\minor\\Sign-To-Speech-Conversion\\DATASET\\test\\A\n",
      "C:\\Users\\khosl\\OneDrive\\Desktop\\minor\\Sign-To-Speech-Conversion\\DATASET\\test\\B\n",
      "C:\\Users\\khosl\\OneDrive\\Desktop\\minor\\Sign-To-Speech-Conversion\\DATASET\\test\\C\n",
      "C:\\Users\\khosl\\OneDrive\\Desktop\\minor\\Sign-To-Speech-Conversion\\DATASET\\test\\D\n",
      "C:\\Users\\khosl\\OneDrive\\Desktop\\minor\\Sign-To-Speech-Conversion\\DATASET\\test\\E\n",
      "C:\\Users\\khosl\\OneDrive\\Desktop\\minor\\Sign-To-Speech-Conversion\\DATASET\\test\\F\n",
      "C:\\Users\\khosl\\OneDrive\\Desktop\\minor\\Sign-To-Speech-Conversion\\DATASET\\test\\G\n",
      "C:\\Users\\khosl\\OneDrive\\Desktop\\minor\\Sign-To-Speech-Conversion\\DATASET\\test\\H\n",
      "C:\\Users\\khosl\\OneDrive\\Desktop\\minor\\Sign-To-Speech-Conversion\\DATASET\\test\\I\n",
      "C:\\Users\\khosl\\OneDrive\\Desktop\\minor\\Sign-To-Speech-Conversion\\DATASET\\test\\J\n",
      "C:\\Users\\khosl\\OneDrive\\Desktop\\minor\\Sign-To-Speech-Conversion\\DATASET\\test\\K\n",
      "C:\\Users\\khosl\\OneDrive\\Desktop\\minor\\Sign-To-Speech-Conversion\\DATASET\\test\\L\n",
      "C:\\Users\\khosl\\OneDrive\\Desktop\\minor\\Sign-To-Speech-Conversion\\DATASET\\test\\M\n",
      "C:\\Users\\khosl\\OneDrive\\Desktop\\minor\\Sign-To-Speech-Conversion\\DATASET\\test\\N\n",
      "C:\\Users\\khosl\\OneDrive\\Desktop\\minor\\Sign-To-Speech-Conversion\\DATASET\\test\\O\n",
      "C:\\Users\\khosl\\OneDrive\\Desktop\\minor\\Sign-To-Speech-Conversion\\DATASET\\test\\P\n",
      "C:\\Users\\khosl\\OneDrive\\Desktop\\minor\\Sign-To-Speech-Conversion\\DATASET\\test\\Q\n",
      "C:\\Users\\khosl\\OneDrive\\Desktop\\minor\\Sign-To-Speech-Conversion\\DATASET\\test\\R\n",
      "C:\\Users\\khosl\\OneDrive\\Desktop\\minor\\Sign-To-Speech-Conversion\\DATASET\\test\\S\n",
      "C:\\Users\\khosl\\OneDrive\\Desktop\\minor\\Sign-To-Speech-Conversion\\DATASET\\test\\T\n",
      "C:\\Users\\khosl\\OneDrive\\Desktop\\minor\\Sign-To-Speech-Conversion\\DATASET\\test\\U\n",
      "C:\\Users\\khosl\\OneDrive\\Desktop\\minor\\Sign-To-Speech-Conversion\\DATASET\\test\\V\n",
      "C:\\Users\\khosl\\OneDrive\\Desktop\\minor\\Sign-To-Speech-Conversion\\DATASET\\test\\W\n",
      "C:\\Users\\khosl\\OneDrive\\Desktop\\minor\\Sign-To-Speech-Conversion\\DATASET\\test\\X\n",
      "C:\\Users\\khosl\\OneDrive\\Desktop\\minor\\Sign-To-Speech-Conversion\\DATASET\\test\\Y\n",
      "C:\\Users\\khosl\\OneDrive\\Desktop\\minor\\Sign-To-Speech-Conversion\\DATASET\\test\\Z\n",
      "C:\\Users\\khosl\\OneDrive\\Desktop\\minor\\Sign-To-Speech-Conversion\\DATASET\\train\n",
      "['0', 'A', 'B', 'C', 'D', 'E', 'F', 'G', 'H', 'I', 'J', 'K', 'L', 'M', 'N', 'O', 'P', 'Q', 'R', 'S', 'T', 'U', 'V', 'W', 'X', 'Y', 'Z']\n",
      "C:\\Users\\khosl\\OneDrive\\Desktop\\minor\\Sign-To-Speech-Conversion\\DATASET\\train\\0\n",
      "C:\\Users\\khosl\\OneDrive\\Desktop\\minor\\Sign-To-Speech-Conversion\\DATASET\\train\\A\n",
      "C:\\Users\\khosl\\OneDrive\\Desktop\\minor\\Sign-To-Speech-Conversion\\DATASET\\train\\B\n",
      "C:\\Users\\khosl\\OneDrive\\Desktop\\minor\\Sign-To-Speech-Conversion\\DATASET\\train\\C\n",
      "C:\\Users\\khosl\\OneDrive\\Desktop\\minor\\Sign-To-Speech-Conversion\\DATASET\\train\\D\n",
      "C:\\Users\\khosl\\OneDrive\\Desktop\\minor\\Sign-To-Speech-Conversion\\DATASET\\train\\E\n",
      "C:\\Users\\khosl\\OneDrive\\Desktop\\minor\\Sign-To-Speech-Conversion\\DATASET\\train\\F\n",
      "C:\\Users\\khosl\\OneDrive\\Desktop\\minor\\Sign-To-Speech-Conversion\\DATASET\\train\\G\n",
      "C:\\Users\\khosl\\OneDrive\\Desktop\\minor\\Sign-To-Speech-Conversion\\DATASET\\train\\H\n",
      "C:\\Users\\khosl\\OneDrive\\Desktop\\minor\\Sign-To-Speech-Conversion\\DATASET\\train\\I\n",
      "C:\\Users\\khosl\\OneDrive\\Desktop\\minor\\Sign-To-Speech-Conversion\\DATASET\\train\\J\n",
      "C:\\Users\\khosl\\OneDrive\\Desktop\\minor\\Sign-To-Speech-Conversion\\DATASET\\train\\K\n",
      "C:\\Users\\khosl\\OneDrive\\Desktop\\minor\\Sign-To-Speech-Conversion\\DATASET\\train\\L\n",
      "C:\\Users\\khosl\\OneDrive\\Desktop\\minor\\Sign-To-Speech-Conversion\\DATASET\\train\\M\n",
      "C:\\Users\\khosl\\OneDrive\\Desktop\\minor\\Sign-To-Speech-Conversion\\DATASET\\train\\N\n",
      "C:\\Users\\khosl\\OneDrive\\Desktop\\minor\\Sign-To-Speech-Conversion\\DATASET\\train\\O\n",
      "C:\\Users\\khosl\\OneDrive\\Desktop\\minor\\Sign-To-Speech-Conversion\\DATASET\\train\\P\n",
      "C:\\Users\\khosl\\OneDrive\\Desktop\\minor\\Sign-To-Speech-Conversion\\DATASET\\train\\Q\n",
      "C:\\Users\\khosl\\OneDrive\\Desktop\\minor\\Sign-To-Speech-Conversion\\DATASET\\train\\R\n",
      "C:\\Users\\khosl\\OneDrive\\Desktop\\minor\\Sign-To-Speech-Conversion\\DATASET\\train\\S\n",
      "C:\\Users\\khosl\\OneDrive\\Desktop\\minor\\Sign-To-Speech-Conversion\\DATASET\\train\\T\n",
      "C:\\Users\\khosl\\OneDrive\\Desktop\\minor\\Sign-To-Speech-Conversion\\DATASET\\train\\U\n",
      "C:\\Users\\khosl\\OneDrive\\Desktop\\minor\\Sign-To-Speech-Conversion\\DATASET\\train\\V\n",
      "C:\\Users\\khosl\\OneDrive\\Desktop\\minor\\Sign-To-Speech-Conversion\\DATASET\\train\\W\n",
      "C:\\Users\\khosl\\OneDrive\\Desktop\\minor\\Sign-To-Speech-Conversion\\DATASET\\train\\X\n",
      "C:\\Users\\khosl\\OneDrive\\Desktop\\minor\\Sign-To-Speech-Conversion\\DATASET\\train\\Y\n",
      "C:\\Users\\khosl\\OneDrive\\Desktop\\minor\\Sign-To-Speech-Conversion\\DATASET\\train\\Z\n"
     ]
    }
   ],
   "source": [
    "img_size=128\n",
    "data=[]\n",
    "target=[]\n",
    "c=0\n",
    "minValue = 70\n",
    "for category in categories:\n",
    "    \n",
    "    cat_path=os.path.join(data_path,category)\n",
    "    print(cat_path)\n",
    "    cat_names=os.listdir(cat_path)\n",
    "    print(cat_names)\n",
    "    for classes in cat_names:\n",
    "        folder_path=os.path.join(data_path,category,classes)\n",
    "        print(folder_path)\n",
    "        img_names=os.listdir(folder_path)\n",
    "        #print(img_names)\n",
    "        for img_name in img_names:\n",
    "            #print(img_name)\n",
    "            img_path=os.path.join(folder_path,img_name)\n",
    "            img=cv2.imread(img_path)\n",
    "            \n",
    "            try:\n",
    "                gray=cv2.cvtColor(img,cv2.COLOR_BGR2GRAY) \n",
    "                blur = cv2.GaussianBlur(gray,(5,5),2)\n",
    "                th3 = cv2.adaptiveThreshold(blur,255,cv2.ADAPTIVE_THRESH_GAUSSIAN_C,cv2.THRESH_BINARY_INV,11,2)\n",
    "                ret, res = cv2.threshold(th3, minValue, 255, cv2.THRESH_BINARY_INV+cv2.THRESH_OTSU)\n",
    "                #res=np.array(res)\n",
    "                #print(type(res))\n",
    "            #Converting the image into gray scale\n",
    "                resized=cv2.resize(res,(img_size,img_size))\n",
    "            #resizing the gray scale into 50x50, since we need a fixed common size for all the images in the dataset\n",
    "                data.append(resized)\n",
    "                #print(data)\n",
    "                target.append(label_classes_dict[classes])\n",
    "            except Exception as e:\n",
    "                print('Exception:',e)\n",
    "            \n",
    "            \n",
    "        \n",
    "        "
   ]
  },
  {
   "cell_type": "code",
   "execution_count": 8,
   "metadata": {},
   "outputs": [],
   "source": [
    "datanp=np.array(data)"
   ]
  },
  {
   "cell_type": "code",
   "execution_count": 9,
   "metadata": {},
   "outputs": [
    {
     "data": {
      "text/plain": [
       "(17113, 128, 128)"
      ]
     },
     "execution_count": 9,
     "metadata": {},
     "output_type": "execute_result"
    }
   ],
   "source": [
    "datanp.shape"
   ]
  },
  {
   "cell_type": "code",
   "execution_count": 10,
   "metadata": {},
   "outputs": [
    {
     "data": {
      "text/plain": [
       "(17113,)"
      ]
     },
     "execution_count": 10,
     "metadata": {},
     "output_type": "execute_result"
    }
   ],
   "source": [
    "targetnp=np.array(target)\n",
    "\n",
    "targetnp.shape"
   ]
  },
  {
   "cell_type": "code",
   "execution_count": 11,
   "metadata": {},
   "outputs": [],
   "source": [
    "import numpy as np\n",
    "\n",
    "data=np.array(data)/255.0\n",
    "data=np.reshape(data,(data.shape[0],img_size,img_size,1))\n",
    "target=np.array(target)\n",
    "\n",
    "from keras.utils import np_utils\n",
    "\n",
    "new_target=np_utils.to_categorical(target)"
   ]
  },
  {
   "cell_type": "code",
   "execution_count": 12,
   "metadata": {},
   "outputs": [
    {
     "data": {
      "text/plain": [
       "(17113, 27)"
      ]
     },
     "execution_count": 12,
     "metadata": {},
     "output_type": "execute_result"
    }
   ],
   "source": [
    "new_target.shape"
   ]
  },
  {
   "cell_type": "code",
   "execution_count": null,
   "metadata": {},
   "outputs": [],
   "source": []
  },
  {
   "cell_type": "code",
   "execution_count": 13,
   "metadata": {},
   "outputs": [],
   "source": [
    "np.save('data_img',data)\n",
    "np.save('target',new_target)"
   ]
  },
  {
   "cell_type": "code",
   "execution_count": 14,
   "metadata": {},
   "outputs": [],
   "source": [
    "data=np.load('data_img.npy')\n",
    "target=np.load('target.npy')"
   ]
  },
  {
   "cell_type": "code",
   "execution_count": 15,
   "metadata": {},
   "outputs": [],
   "source": [
    "from sklearn.model_selection import train_test_split\n",
    "train_data,test_data,train_target,test_target=train_test_split(data,new_target,test_size=0.2)"
   ]
  },
  {
   "cell_type": "code",
   "execution_count": 16,
   "metadata": {},
   "outputs": [
    {
     "name": "stdout",
     "output_type": "stream",
     "text": [
      "Model: \"sequential\"\n",
      "_________________________________________________________________\n",
      "Layer (type)                 Output Shape              Param #   \n",
      "=================================================================\n",
      "conv2d (Conv2D)              (None, 126, 126, 32)      320       \n",
      "_________________________________________________________________\n",
      "max_pooling2d (MaxPooling2D) (None, 63, 63, 32)        0         \n",
      "_________________________________________________________________\n",
      "conv2d_1 (Conv2D)            (None, 61, 61, 32)        9248      \n",
      "_________________________________________________________________\n",
      "max_pooling2d_1 (MaxPooling2 (None, 30, 30, 32)        0         \n",
      "_________________________________________________________________\n",
      "flatten (Flatten)            (None, 28800)             0         \n",
      "_________________________________________________________________\n",
      "dense (Dense)                (None, 128)               3686528   \n",
      "_________________________________________________________________\n",
      "dropout (Dropout)            (None, 128)               0         \n",
      "_________________________________________________________________\n",
      "dense_1 (Dense)              (None, 96)                12384     \n",
      "_________________________________________________________________\n",
      "dropout_1 (Dropout)          (None, 96)                0         \n",
      "_________________________________________________________________\n",
      "dense_2 (Dense)              (None, 64)                6208      \n",
      "_________________________________________________________________\n",
      "dense_3 (Dense)              (None, 27)                1755      \n",
      "=================================================================\n",
      "Total params: 3,716,443\n",
      "Trainable params: 3,716,443\n",
      "Non-trainable params: 0\n",
      "_________________________________________________________________\n"
     ]
    }
   ],
   "source": [
    "from keras.models import Sequential\n",
    "from keras.layers import Convolution2D\n",
    "from keras.layers import MaxPooling2D\n",
    "from keras.layers import Flatten\n",
    "from keras.layers import Dense , Dropout\n",
    "import os\n",
    "os.environ[\"CUDA_VISIBLE_DEVICES\"] = \"1\"\n",
    "sz = 128\n",
    "# Step 1 - Building the CNN\n",
    "\n",
    "# Initializing the CNN\n",
    "classifier = Sequential()\n",
    "\n",
    "# First convolution layer and pooling\n",
    "classifier.add(Convolution2D(32, (3, 3), input_shape=(sz, sz, 1), activation='relu'))\n",
    "classifier.add(MaxPooling2D(pool_size=(2, 2)))\n",
    "# Second convolution layer and pooling\n",
    "classifier.add(Convolution2D(32, (3, 3), activation='relu'))\n",
    "# input_shape is going to be the pooled feature maps from the previous convolution layer\n",
    "classifier.add(MaxPooling2D(pool_size=(2, 2)))\n",
    "#classifier.add(Convolution2D(32, (3, 3), activation='relu'))\n",
    "# input_shape is going to be the pooled feature maps from the previous convolution layer\n",
    "#classifier.add(MaxPooling2D(pool_size=(2, 2)))\n",
    "\n",
    "# Flattening the layers\n",
    "classifier.add(Flatten())\n",
    "\n",
    "# Adding a fully connected layer\n",
    "classifier.add(Dense(units=128, activation='relu'))\n",
    "classifier.add(Dropout(0.40))\n",
    "classifier.add(Dense(units=96, activation='relu'))\n",
    "classifier.add(Dropout(0.40))\n",
    "classifier.add(Dense(units=64, activation='relu'))\n",
    "classifier.add(Dense(units=27, activation='softmax')) # softmax for more than 2\n",
    "\n",
    "# Compiling the CNN\n",
    "classifier.compile(optimizer='adam', loss='categorical_crossentropy', metrics=['accuracy']) # categorical_crossentropy for more than 2\n",
    "\n",
    "\n",
    "# Step 2 - Preparing the train/test data and training the model\n",
    "classifier.summary()"
   ]
  },
  {
   "cell_type": "code",
   "execution_count": 17,
   "metadata": {},
   "outputs": [],
   "source": [
    "from keras.callbacks import ModelCheckpoint"
   ]
  },
  {
   "cell_type": "code",
   "execution_count": 18,
   "metadata": {},
   "outputs": [
    {
     "name": "stdout",
     "output_type": "stream",
     "text": [
      "Epoch 1/20\n",
      "300/300 [==============================] - 157s 393ms/step - loss: 2.6424 - accuracy: 0.2203 - val_loss: 0.3407 - val_accuracy: 0.9477\n",
      "INFO:tensorflow:Assets written to: model-001.model\\assets\n",
      "Epoch 2/20\n",
      "300/300 [==============================] - 90s 300ms/step - loss: 0.7057 - accuracy: 0.7559 - val_loss: 0.0504 - val_accuracy: 0.9910\n",
      "INFO:tensorflow:Assets written to: model-002.model\\assets\n",
      "Epoch 3/20\n",
      "300/300 [==============================] - 93s 310ms/step - loss: 0.4179 - accuracy: 0.8612 - val_loss: 0.0296 - val_accuracy: 0.9973\n",
      "INFO:tensorflow:Assets written to: model-003.model\\assets\n",
      "Epoch 4/20\n",
      "300/300 [==============================] - 92s 306ms/step - loss: 0.3055 - accuracy: 0.8937 - val_loss: 0.0161 - val_accuracy: 0.9981\n",
      "INFO:tensorflow:Assets written to: model-004.model\\assets\n",
      "Epoch 5/20\n",
      "300/300 [==============================] - 96s 322ms/step - loss: 0.2342 - accuracy: 0.9182 - val_loss: 0.0171 - val_accuracy: 0.9968\n",
      "Epoch 6/20\n",
      "300/300 [==============================] - 127s 425ms/step - loss: 0.2272 - accuracy: 0.9251 - val_loss: 0.0078 - val_accuracy: 0.9988\n",
      "INFO:tensorflow:Assets written to: model-006.model\\assets\n",
      "Epoch 7/20\n",
      "300/300 [==============================] - 133s 445ms/step - loss: 0.1784 - accuracy: 0.9394 - val_loss: 0.0072 - val_accuracy: 0.9988\n",
      "INFO:tensorflow:Assets written to: model-007.model\\assets\n",
      "Epoch 8/20\n",
      "300/300 [==============================] - 132s 441ms/step - loss: 0.1587 - accuracy: 0.9482 - val_loss: 0.0069 - val_accuracy: 0.9988\n",
      "INFO:tensorflow:Assets written to: model-008.model\\assets\n",
      "Epoch 9/20\n",
      "300/300 [==============================] - 124s 413ms/step - loss: 0.1348 - accuracy: 0.9574 - val_loss: 0.0070 - val_accuracy: 0.9993\n",
      "Epoch 10/20\n",
      "300/300 [==============================] - 133s 444ms/step - loss: 0.1274 - accuracy: 0.9578 - val_loss: 0.0089 - val_accuracy: 0.9988\n",
      "Epoch 11/20\n",
      "300/300 [==============================] - 131s 436ms/step - loss: 0.1095 - accuracy: 0.9651 - val_loss: 0.0082 - val_accuracy: 0.9990\n",
      "Epoch 12/20\n",
      "300/300 [==============================] - 121s 405ms/step - loss: 0.1114 - accuracy: 0.9603 - val_loss: 0.0065 - val_accuracy: 0.9990\n",
      "INFO:tensorflow:Assets written to: model-012.model\\assets\n",
      "Epoch 13/20\n",
      "300/300 [==============================] - 124s 414ms/step - loss: 0.0921 - accuracy: 0.9700 - val_loss: 0.0073 - val_accuracy: 0.9990\n",
      "Epoch 14/20\n",
      "300/300 [==============================] - 125s 416ms/step - loss: 0.0916 - accuracy: 0.9704 - val_loss: 0.0054 - val_accuracy: 0.9990\n",
      "INFO:tensorflow:Assets written to: model-014.model\\assets\n",
      "Epoch 15/20\n",
      "300/300 [==============================] - 126s 420ms/step - loss: 0.0950 - accuracy: 0.9695 - val_loss: 0.0069 - val_accuracy: 0.9988\n",
      "Epoch 16/20\n",
      "300/300 [==============================] - 125s 416ms/step - loss: 0.0936 - accuracy: 0.9707 - val_loss: 0.0052 - val_accuracy: 0.9993\n",
      "INFO:tensorflow:Assets written to: model-016.model\\assets\n",
      "Epoch 17/20\n",
      "300/300 [==============================] - 129s 431ms/step - loss: 0.0881 - accuracy: 0.9713 - val_loss: 0.0060 - val_accuracy: 0.9993\n",
      "Epoch 18/20\n",
      "300/300 [==============================] - 130s 433ms/step - loss: 0.0868 - accuracy: 0.9716 - val_loss: 0.0054 - val_accuracy: 0.9990\n",
      "Epoch 19/20\n",
      "300/300 [==============================] - 128s 427ms/step - loss: 0.0725 - accuracy: 0.9773 - val_loss: 0.0061 - val_accuracy: 0.9993\n",
      "Epoch 20/20\n",
      "300/300 [==============================] - 127s 425ms/step - loss: 0.0765 - accuracy: 0.9760 - val_loss: 0.0050 - val_accuracy: 0.9990\n",
      "INFO:tensorflow:Assets written to: model-020.model\\assets\n"
     ]
    }
   ],
   "source": [
    "checkpoint = ModelCheckpoint('model-{epoch:03d}.model',monitor='val_loss',verbose=0,save_best_only=True,mode='auto')\n",
    "history=classifier.fit(train_data,train_target,shuffle=True,epochs=20,callbacks=[checkpoint],validation_split=0.3)"
   ]
  },
  {
   "cell_type": "code",
   "execution_count": 19,
   "metadata": {},
   "outputs": [
    {
     "name": "stdout",
     "output_type": "stream",
     "text": [
      "107/107 [==============================] - 11s 106ms/step - loss: 0.0037 - accuracy: 0.9991\n",
      "[0.003669552970677614, 0.9991235733032227]\n"
     ]
    }
   ],
   "source": [
    "print(classifier.evaluate(test_data,test_target))"
   ]
  },
  {
   "cell_type": "code",
   "execution_count": 20,
   "metadata": {},
   "outputs": [],
   "source": [
    "import matplotlib.pyplot as plt"
   ]
  },
  {
   "cell_type": "code",
   "execution_count": 21,
   "metadata": {},
   "outputs": [
    {
     "data": {
      "image/png": "[encoded data removed]",
      "text/plain": [
       "<Figure size 640x480 with 1 Axes>"
      ]
     },
     "metadata": {},
     "output_type": "display_data"
    }
   ],
   "source": [
    "N = 20\n",
    "H=history\n",
    "plt.style.use(\"ggplot\")\n",
    "plt.figure()\n",
    "plt.plot(np.arange(0, N), H.history[\"loss\"], label=\"train_loss\")\n",
    "plt.plot(np.arange(0, N), H.history[\"val_loss\"], label=\"val_loss\")\n",
    "plt.plot(np.arange(0, N), H.history[\"accuracy\"], label=\"train_acc\")\n",
    "plt.plot(np.arange(0, N), H.history[\"val_accuracy\"], label=\"val_acc\")\n",
    "plt.title(\"Training Loss and Accuracy\")\n",
    "plt.xlabel(\"Epoch #\")\n",
    "plt.ylabel(\"Loss/Accuracy\")\n",
    "plt.legend(loc=\"lower left\")\n",
    "plt.savefig('evaluation.png')"
   ]
  },
  {
   "cell_type": "code",
   "execution_count": 22,
   "metadata": {},
   "outputs": [
    {
     "name": "stdout",
     "output_type": "stream",
     "text": [
      "[INFO] saving mask detector model...\n",
      "Done !\n"
     ]
    }
   ],
   "source": [
    "# serialize the model to disk\n",
    "print(\"[INFO] saving mask detector model...\")\n",
    "classifier.save('asl_classifier.h5')\n",
    "print(\"Done !\")"
   ]
  },
  {
   "cell_type": "code",
   "execution_count": 23,
   "metadata": {},
   "outputs": [
    {
     "data": {
      "image/png": "[encoded data removed]",
      "text/plain": [
       "<Figure size 640x480 with 1 Axes>"
      ]
     },
     "metadata": {},
     "output_type": "display_data"
    }
   ],
   "source": [
    "import matplotlib.pyplot as plt\n",
    "plt.plot(history.history['loss'])\n",
    "plt.plot(history.history['val_loss'])\n",
    "plt.xlabel('epochs')\n",
    "plt.ylabel('Loss')\n",
    "plt.legend(['train_loss','val_loss'], loc=0)\n",
    "plt.show()"
   ]
  },
  {
   "cell_type": "code",
   "execution_count": 24,
   "metadata": {},
   "outputs": [
    {
     "data": {
      "image/png": "[encoded data removed]",
      "text/plain": [
       "<Figure size 640x480 with 1 Axes>"
      ]
     },
     "metadata": {},
     "output_type": "display_data"
    }
   ],
   "source": [
    "import matplotlib.pyplot as plt\n",
    "plt.plot(history.history['accuracy'])\n",
    "plt.plot(history.history['val_accuracy'])\n",
    "plt.xlabel('epochs')\n",
    "plt.ylabel('Accuracy')\n",
    "plt.legend(['train_accuracy','val_accuracy'], loc=0)\n",
    "plt.show()"
   ]
  },
  {
   "cell_type": "code",
   "execution_count": 25,
   "metadata": {},
   "outputs": [],
   "source": [
    "import cv2\n",
    "from keras.models import load_model\n",
    "from keras.preprocessing.image import load_img, img_to_array\n",
    "import numpy as np\n",
    "import tensorflow as tf\n",
    "import keras"
   ]
  },
  {
   "cell_type": "code",
   "execution_count": 26,
   "metadata": {},
   "outputs": [
    {
     "name": "stdout",
     "output_type": "stream",
     "text": [
      "Requirement already satisfied: playsound in c:\\users\\khosl\\anaconda3\\lib\\site-packages (1.2.2)\n",
      "Note: you may need to restart the kernel to use updated packages.\n"
     ]
    }
   ],
   "source": [
    "pip install playsound"
   ]
  },
  {
   "cell_type": "code",
   "execution_count": 27,
   "metadata": {},
   "outputs": [],
   "source": [
    "model = keras.models.load_model(r\"C:\\Users\\khosl\\OneDrive\\Desktop\\minor\\Sign-To-Speech-Conversion\\asl_classifier.h5\")"
   ]
  },
  {
   "cell_type": "code",
   "execution_count": 28,
   "metadata": {},
   "outputs": [],
   "source": [
    "labels_dict = {0:'0', \n",
    "                 1:'A', \n",
    "                 2:'B', \n",
    "                 3:'C', \n",
    "                 4:'D', \n",
    "                 5:'E',\n",
    "                 6:'F',\n",
    "                 7:'G',\n",
    "                 8:'H',\n",
    "                 9:'I',\n",
    "                 10:'J',\n",
    "                 11:'K',\n",
    "                 12:'L',\n",
    "                 13:'M',\n",
    "                 14:'N',\n",
    "                 15:'O',\n",
    "                 16:'P',\n",
    "                 17:\"Q\",\n",
    "                 18:'R',\n",
    "                 19:'S',\n",
    "                 20:'T', \n",
    "                 21:'U', \n",
    "                 22:'V',\n",
    "                 23:'W',\n",
    "                 24:'X',\n",
    "                 25:'Y',\n",
    "                 26:'Z'}\n",
    "color_dict=(0,255,0)\n",
    "x=0\n",
    "y=0\n",
    "w=64\n",
    "h=64"
   ]
  },
  {
   "cell_type": "code",
   "execution_count": 29,
   "metadata": {},
   "outputs": [
    {
     "name": "stdout",
     "output_type": "stream",
     "text": [
      " CWWCAJQCOWQQTQHET\n"
     ]
    }
   ],
   "source": [
    "img_size=128\n",
    "minValue = 70\n",
    "source=cv2.VideoCapture(0)\n",
    "count = 0\n",
    "string = \" \"\n",
    "prev = \" \"\n",
    "prev_val = 0\n",
    "while(True):\n",
    "    ret,img=source.read()\n",
    "    gray=cv2.cvtColor(img,cv2.COLOR_BGR2GRAY)\n",
    "    #cv2.rectangle(img,(x,y),(x+w,y+h),color_dict,2)\n",
    "    cv2.rectangle(img,(24,24),(250 , 250),color_dict,2)\n",
    "    crop_img=gray[24:250,24:250]\n",
    "    count = count + 1\n",
    "    if(count % 100 == 0):\n",
    "        prev_val = count\n",
    "    cv2.putText(img, str(prev_val//100), (300, 150),cv2.FONT_HERSHEY_SIMPLEX,1.5,(255,255,255),2) \n",
    "    blur = cv2.GaussianBlur(crop_img,(5,5),2)\n",
    "    th3 = cv2.adaptiveThreshold(blur,255,cv2.ADAPTIVE_THRESH_GAUSSIAN_C,cv2.THRESH_BINARY_INV,11,2)\n",
    "    ret, res = cv2.threshold(th3, minValue, 255, cv2.THRESH_BINARY_INV+cv2.THRESH_OTSU)\n",
    "    resized=cv2.resize(res,(img_size,img_size))\n",
    "    normalized=resized/255.0\n",
    "    reshaped=np.reshape(normalized,(1,img_size,img_size,1))\n",
    "    result = model.predict(reshaped)\n",
    "    #print(result)\n",
    "    label=np.argmax(result,axis=1)[0]\n",
    "    if(count == 300):\n",
    "        count = 99\n",
    "        prev= labels_dict[label] \n",
    "        if(label == 0):\n",
    "               string = string + \" \"\n",
    "            #if(len(string)==1 or string[len(string)] != \" \"):\n",
    "             \n",
    "        else:\n",
    "                string = string + prev\n",
    "    \n",
    "    cv2.putText(img, prev, (24, 14),cv2.FONT_HERSHEY_SIMPLEX,0.8,(255,255,255),2) \n",
    "    cv2.putText(img, string, (275, 50),cv2.FONT_HERSHEY_SIMPLEX,0.8,(200,200,200),2)\n",
    "    cv2.imshow(\"Gray\",res)    \n",
    "    cv2.imshow('LIVE',img)\n",
    "    key=cv2.waitKey(1)\n",
    "    \n",
    " \n",
    "    if(key==27):#press Esc. to exit\n",
    "        break\n",
    "print(string)        \n",
    "cv2.destroyAllWindows()\n",
    "source.release()\n",
    "\n",
    "cv2.destroyAllWindows()"
   ]
  },
  {
   "cell_type": "code",
   "execution_count": null,
   "metadata": {},
   "outputs": [],
   "source": [
    "pip install gTTS"
   ]
  },
  {
   "cell_type": "code",
   "execution_count": 30,
   "metadata": {},
   "outputs": [
    {
     "data": {
      "text/plain": [
       "1"
      ]
     },
     "execution_count": 30,
     "metadata": {},
     "output_type": "execute_result"
    }
   ],
   "source": [
    "from gtts import gTTS \n",
    "  \n",
    "# This module is imported so that we can  \n",
    "# play the converted audio \n",
    "import os \n",
    "  \n",
    "# The text that you want to convert to audio \n",
    "  \n",
    "# Language in which you want to convert \n",
    "language = 'en'\n",
    "# Passing the text and language to the engine,  \n",
    "# here we have marked slow=False. Which tells  \n",
    "# the module that the converted audio should  \n",
    "# have a high speed \n",
    "myobj = gTTS(text=string, lang=language, slow=False) \n",
    "  \n",
    "# Saving the converted audio in a mp3 file named \n",
    "# welcome  \n",
    "myobj.save(\"welcome2121.mp3\") \n",
    "  \n",
    "# Playing the converted file \n",
    "os.system(\"welcome.mp3\") "
   ]
  },
  {
   "cell_type": "code",
   "execution_count": null,
   "metadata": {},
   "outputs": [],
   "source": [
    "pip install playsound==1.2.2"
   ]
  },
  {
   "cell_type": "code",
   "execution_count": 37,
   "metadata": {},
   "outputs": [],
   "source": [
    "from playsound import playsound\n",
    "playsound('welcome2121.mp3')"
   ]
  },
  {
   "cell_type": "code",
   "execution_count": null,
   "metadata": {},
   "outputs": [],
   "source": []
  },
  {
   "cell_type": "code",
   "execution_count": null,
   "metadata": {},
   "outputs": [],
   "source": []
  }
 ],
 "metadata": {
  "kernelspec": {
   "display_name": "Python 3 (ipykernel)",
   "language": "python",
   "name": "python3"
  },
  "language_info": {
   "codemirror_mode": {
    "name": "ipython",
    "version": 3
   },
   "file_extension": ".py",
   "mimetype": "text/x-python",
   "name": "python",
   "nbconvert_exporter": "python",
   "pygments_lexer": "ipython3",
   "version": "3.9.12"
  }
 },
 "nbformat": 4,
 "nbformat_minor": 2
}
